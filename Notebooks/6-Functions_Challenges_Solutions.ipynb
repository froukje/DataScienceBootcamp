{
 "cells": [
  {
   "cell_type": "markdown",
   "metadata": {},
   "source": [
    "# Instructions \n",
    "\n",
    "For this assignment you'll be working through solving more problems, but this time by building functions from scratch. \n",
    "\n",
    "\n",
    "For each problem, you should build a function into your solution. We will build each function into it's own file, and then call it with some arguments right after you define it. \n",
    "\n",
    "\n",
    "For example, pretend all of the following is the solution to one of the problems, written in a function first and then called (for testing purposes) below. \n",
    "\n",
    "```python \n",
    "def my_func(param1, param2, param3): \n",
    "    # Function code to solve the problem\n",
    "\n",
    "print my_func(param11, param21, param31)\n",
    "print my_func(param12, param22, param32)\n",
    "print my_func(param13, param23, param33)\n",
    "print my_func(param14, param24, param34)\n",
    "print my_func(param15, param25, param35)\n",
    "```\n",
    "\n",
    "Note above that `my_func` is called five times after it's definition. \n",
    "\n",
    "\n",
    "The output of each call is printed so running the script from the command line will print the tests. These tests should check that `my_func` works correctly with different sets of arguments. You should aim to test your functions at least 5 times tonight after you write them. It's good to try to think of tests that your function might not solve correctly (we call these **edge cases**). Not only does thinking like this help you solve the problem, but it also gives you more faith in your solution.\n",
    "\n",
    "You can name each of the scripts you store your solutions and tests in, but know that its bad practice to start the names of scripts with numbers for reasons that we will see in future classes."
   ]
  },
  {
   "cell_type": "markdown",
   "metadata": {},
   "source": [
    "# Assignment Questions \n",
    "### Part 1\n",
    "1. Write a function that computes the factorial for an inputted number."
   ]
  },
  {
   "cell_type": "code",
   "execution_count": 18,
   "metadata": {},
   "outputs": [],
   "source": [
    "def fact(n):\n",
    "    n_fact = 1\n",
    "    for i in range(1,n+1):\n",
    "        n_fact *= i\n",
    "    return n_fact"
   ]
  },
  {
   "cell_type": "code",
   "execution_count": 526,
   "metadata": {},
   "outputs": [
    {
     "name": "stdout",
     "output_type": "stream",
     "text": [
      "6\n",
      "120\n",
      "2432902008176640000\n",
      "1\n"
     ]
    }
   ],
   "source": [
    "# test\n",
    "print(fact(3))\n",
    "print(fact(5))\n",
    "print(fact(20))\n",
    "print(fact(0))"
   ]
  },
  {
   "cell_type": "markdown",
   "metadata": {},
   "source": [
    "2. Write a function that determines whether or not an inputted number is prime, and then prints 'The number you inputted is a prime/ not a prime number.' depending on what your script finds (note that this means putting a print in front of the function when testing it will be redundant for this case)."
   ]
  },
  {
   "cell_type": "code",
   "execution_count": 247,
   "metadata": {},
   "outputs": [],
   "source": [
    "def prime(n):\n",
    "    for i in range(2,n):\n",
    "        if n%i == 0:\n",
    "            return print(str(n) + \" is not a prime\")\n",
    "    return print(str(n) + \" is a prime\")"
   ]
  },
  {
   "cell_type": "code",
   "execution_count": 527,
   "metadata": {},
   "outputs": [
    {
     "name": "stdout",
     "output_type": "stream",
     "text": [
      "3 is a prime\n",
      "20 is not a prime\n",
      "25 is not a prime\n",
      "17 is a prime\n",
      "2 is a prime\n",
      "1 is a prime\n"
     ]
    }
   ],
   "source": [
    "# test\n",
    "prime(3)\n",
    "prime(20)\n",
    "prime(25)\n",
    "prime(17)\n",
    "prime(2)\n",
    "prime(1)"
   ]
  },
  {
   "cell_type": "markdown",
   "metadata": {},
   "source": [
    "### Part 2\n",
    "\n",
    "Now we're going to push our problem solving and programming skills even further by coding up functions to solve new problems. For each of the problems below, I would suggest coding it up in a similar way to how you did the other two (building the function, and then calling it some number of times (5) to test it out after that). \n",
    "\n",
    "1. Write a function that counts the number of words in an inputted string, where we consider words to be separated by spaces."
   ]
  },
  {
   "cell_type": "code",
   "execution_count": 37,
   "metadata": {},
   "outputs": [],
   "source": [
    "def word_count(s):\n",
    "    words = len(s.split())\n",
    "    return words"
   ]
  },
  {
   "cell_type": "code",
   "execution_count": 528,
   "metadata": {},
   "outputs": [
    {
     "name": "stdout",
     "output_type": "stream",
     "text": [
      "3\n",
      "2\n",
      "5\n",
      "9\n",
      "0\n"
     ]
    }
   ],
   "source": [
    "# test\n",
    "\n",
    "print(word_count(\"la le lu\"))\n",
    "print(word_count(\"ho   ho\"))\n",
    "print(word_count(\"This is a test sentence.\"))\n",
    "print(word_count(\"This is another sentence, which is a bit longer!\"))\n",
    "print(word_count(\"\"))"
   ]
  },
  {
   "cell_type": "markdown",
   "metadata": {},
   "source": [
    "2. Write a function that counts the number of words in an inputted string, where we consider words to be separated by a specified delimiter (so your function should accept two arguments, one for the string and one for the delimiter) and a space is defined as the default delimiter."
   ]
  },
  {
   "cell_type": "code",
   "execution_count": 49,
   "metadata": {},
   "outputs": [],
   "source": [
    "def word_count2(s, d=\" \"):\n",
    "    words = len(s.split(d))\n",
    "    return words"
   ]
  },
  {
   "cell_type": "code",
   "execution_count": 529,
   "metadata": {},
   "outputs": [
    {
     "name": "stdout",
     "output_type": "stream",
     "text": [
      "3\n",
      "5\n",
      "4\n",
      "7\n",
      "1\n"
     ]
    }
   ],
   "source": [
    "# test\n",
    "print(word_count2(\"la le lu\"))\n",
    "print(word_count2(\"hohohohoh\",\"o\"))\n",
    "print(word_count2(\"Canzyoureadzthisz?\",\"z\"))\n",
    "print(word_count2(\"zzzzzz\",\"z\"))\n",
    "print(word_count2(\"I cannot think of n´more test sentences...\",\"z\"))"
   ]
  },
  {
   "cell_type": "markdown",
   "metadata": {},
   "source": [
    "3. Write a function that takes in a string, and returns a list that holds the length of each word in the phrase, separated by an inputted delimiter (so you're function should accept two arguments again). Make a space the default delimiter like you did in 2. For example, if the arguments to your function were This is a test string (and nothing else), your function should return [4, 2, 1, 4, 6]. Go ahead and don't worry about removing punctuation (you can include it in the word length - e.g. \"this.\" has five letters, if we count the period).\n",
    "Write a function that returns all the prime numbers up to an inputted number (Hint: It might be helpful to"
   ]
  },
  {
   "cell_type": "code",
   "execution_count": 68,
   "metadata": {},
   "outputs": [],
   "source": [
    "def word_count_list(s, d=\" \"):\n",
    "    words = s.split(d)\n",
    "    return [len(i) for i in words]"
   ]
  },
  {
   "cell_type": "code",
   "execution_count": 71,
   "metadata": {},
   "outputs": [
    {
     "name": "stdout",
     "output_type": "stream",
     "text": [
      "[4, 4, 4]\n",
      "[0]\n",
      "[0, 1, 1, 0]\n",
      "[3, 3, 4, 5]\n",
      "[0, 9, 9, 8]\n"
     ]
    }
   ],
   "source": [
    "print(word_count_list(\"test test test\"))\n",
    "print(word_count_list(\"\"))\n",
    "print(word_count_list(\"test test test\", \"test\"))\n",
    "print(word_count_list(\"Canzyouzreadzthis?\",\"z\"))\n",
    "print(word_count_list(\"testsentence testsentence testsentence\",\"test\"))"
   ]
  },
  {
   "cell_type": "markdown",
   "metadata": {},
   "source": [
    "4. Write a function that returns all the prime numbers up to an inputted number (Hint: It might be helpful to use/modify the prime function you wrote earlier)."
   ]
  },
  {
   "cell_type": "code",
   "execution_count": 179,
   "metadata": {},
   "outputs": [],
   "source": [
    "def li_primes(n):\n",
    "    list_primes   = list(range(1,n+1))\n",
    "    for j in range(1,n+1):\n",
    "        for i in range(2,j):\n",
    "            if j%i == 0 and j in list_primes:\n",
    "                list_primes.remove(j)\n",
    "    return list_primes"
   ]
  },
  {
   "cell_type": "code",
   "execution_count": 530,
   "metadata": {},
   "outputs": [
    {
     "name": "stdout",
     "output_type": "stream",
     "text": [
      "[1]\n",
      "[1, 2, 3, 5]\n",
      "[1, 2, 3, 5, 7]\n",
      "[1, 2, 3, 5, 7, 11, 13, 17, 19]\n",
      "[1, 2, 3, 5, 7, 11]\n"
     ]
    }
   ],
   "source": [
    "# test\n",
    "print(li_primes(1))\n",
    "print(li_primes(5))\n",
    "print(li_primes(7))\n",
    "print(li_primes(20))\n",
    "print(li_primes(12))"
   ]
  },
  {
   "cell_type": "markdown",
   "metadata": {},
   "source": [
    "5. write a function that takes in a list of numbers, as well as an additional number (i.e. two arguments), and returns a list of yes or no depending on whether each number in the list is divisible by the second number. For example, if I input [10, 25, 36, 12, 20] as the list of numbers, and 5 as the additional number, your function should return ['yes', 'yes', 'no', 'no', 'yes']."
   ]
  },
  {
   "cell_type": "code",
   "execution_count": 531,
   "metadata": {},
   "outputs": [],
   "source": [
    "def divisable(li, d):\n",
    "    result = []\n",
    "    for j in li:\n",
    "        if j%d == 0:\n",
    "            result.append(\"yes\")\n",
    "        else:\n",
    "            result.append(\"no\")\n",
    "    return result"
   ]
  },
  {
   "cell_type": "code",
   "execution_count": 532,
   "metadata": {},
   "outputs": [
    {
     "name": "stdout",
     "output_type": "stream",
     "text": [
      "['yes', 'yes', 'no', 'no', 'yes']\n",
      "['yes', 'yes', 'yes', 'yes']\n",
      "['no', 'no', 'yes', 'no']\n",
      "['no', 'no', 'no', 'no']\n",
      "[]\n"
     ]
    }
   ],
   "source": [
    "# test\n",
    "print(divisable([10,25,36,12,20],5))\n",
    "print(divisable([2,4,6,2],2))\n",
    "print(divisable([2,4,6,2],3))\n",
    "print(divisable([7,11,13,17],2))\n",
    "print(divisable([],3))"
   ]
  },
  {
   "cell_type": "markdown",
   "metadata": {},
   "source": [
    "6. Write a function that takes in a list of strings, as well as an inputted letter (which looks like a string with a single character), and returns a list of only those strings from the input list that end with that letter. For example, if I input ['I', 'am', 'in', 'love', 'with', 'Python'] as the list of strings, and n as the inputted letter, your function should return ['in', 'Python']."
   ]
  },
  {
   "cell_type": "code",
   "execution_count": 535,
   "metadata": {},
   "outputs": [],
   "source": [
    "def in_word(li_words, le):\n",
    "    return [word for word in li_words if word[-1] == le]"
   ]
  },
  {
   "cell_type": "code",
   "execution_count": 537,
   "metadata": {},
   "outputs": [
    {
     "name": "stdout",
     "output_type": "stream",
     "text": [
      "['in', 'Python']\n",
      "[]\n",
      "['apples', 'bananas', 'oranges']\n",
      "['This', 'is', 'ridiculous']\n",
      "[]\n"
     ]
    }
   ],
   "source": [
    "# test\n",
    "print(in_word([\"I\",\"am\",\"in\",\"love\",\"with\",\"Python\"],\"n\"))\n",
    "print(in_word([\"I\",\"am\",\"sitting\",\"alone\",\"at\",\"my\",\"desk\",\"doing\",\"my\",\"homework\"],\"n\"))\n",
    "print(in_word([\"I\",\"love\",\"apples\",\"bananas\",\"and\",\"oranges\"],\"s\"))\n",
    "print(in_word([\"This\",\"is\",\"ridiculous\"],\"s\"))\n",
    "print(in_word([\"I \",\"love \",\"apples \",\"bananas \",\"and \",\"oranges \"],\"s\"))"
   ]
  },
  {
   "cell_type": "markdown",
   "metadata": {},
   "source": [
    "7. Write a function that takes in a list of strings, as well as an inputted substring (i.e. another string), and returns a list of the indices of the strings that contain that inputted substring. For example, if I input ['This', 'is, 'an' , 'example'] as the list of strings, and is as the substring, your function should return [0, 1]."
   ]
  },
  {
   "cell_type": "code",
   "execution_count": 542,
   "metadata": {},
   "outputs": [],
   "source": [
    "# without list comptrehension\n",
    "def is_in_word1(li_words, sub):\n",
    "    list_index = []\n",
    "    for word in li_words:\n",
    "        if sub in word:\n",
    "            list_index.append(li_words.index(word))\n",
    "    return list_index"
   ]
  },
  {
   "cell_type": "code",
   "execution_count": 543,
   "metadata": {},
   "outputs": [
    {
     "name": "stdout",
     "output_type": "stream",
     "text": [
      "[0, 1]\n",
      "[2]\n",
      "[2]\n",
      "[0, 2, 4]\n",
      "[3]\n"
     ]
    }
   ],
   "source": [
    "# test\n",
    "print(is_in_word1([\"This\",\"is\",\"an\",\"example\"],\"is\"))\n",
    "print(is_in_word1([\"This\",\"is\",\"another\",\"example\"],\"an\"))\n",
    "print(is_in_word1([\"This\",\"is\",\"another\",\"example\"],\"an\"))\n",
    "print(is_in_word1([\"an\",\"is\",\"another\",\"example\",\"ant\"],\"an\"))\n",
    "print(is_in_word1([\"Test\",\"TEST\",\"teST\",\"testtest\"],\"test\"))"
   ]
  },
  {
   "cell_type": "code",
   "execution_count": 544,
   "metadata": {},
   "outputs": [],
   "source": [
    "# with list comprehension\n",
    "def is_in_word2(li_words, sub):\n",
    "    return [li_words.index(word) for word in li_words if sub in word]"
   ]
  },
  {
   "cell_type": "code",
   "execution_count": 545,
   "metadata": {},
   "outputs": [
    {
     "name": "stdout",
     "output_type": "stream",
     "text": [
      "[0, 1]\n",
      "[2]\n",
      "[2]\n",
      "[0, 2, 4]\n",
      "[3]\n"
     ]
    }
   ],
   "source": [
    "# test\n",
    "print(is_in_word2([\"This\",\"is\",\"an\",\"example\"],\"is\"))\n",
    "print(is_in_word2([\"This\",\"is\",\"another\",\"example\"],\"an\"))\n",
    "print(is_in_word2([\"This\",\"is\",\"another\",\"example\"],\"an\"))\n",
    "print(is_in_word2([\"an\",\"is\",\"another\",\"example\",\"ant\"],\"an\"))\n",
    "print(is_in_word2([\"Test\",\"TEST\",\"teST\",\"testtest\"],\"test\"))"
   ]
  },
  {
   "cell_type": "markdown",
   "metadata": {},
   "source": [
    "## Extra Credit\n",
    "Let's build a calculator for figuring out how much I owe in taxes (and by calculator, I mean function). Write a function that takes in a list of tuples, where each tuple contains two values, as well as an income to compute the taxes on (so your function should accept two arguments). For the tuple list, the first value of a tuple will be an income upper bound, and the second will be a tax rate for all income up to the given income bound. You need to build a calculator that will calculate the tax for all income up to each income bound (if it goes up that high) for the given tax rate. You can assume that the list of tuples will be sorted by the income bound (e.g. the first value in the tuple), such that the lowest income bound will be first, and the highest last (see below for an example).\n",
    "\n",
    "As an example, let's say my tax info is [(50000, 0.08), (100000, 0.10), (150000, 0.15)]. This means that the first 50k of income is taxed at 8%, the second 50k at 10%, and the rest at 15% (note here that any income that is left past the highest upper bound given is taxed at the rate for that highest upper bound). So, if the inputted income was 70k, then my taxes would be 50 * 0.08 + 20 * 0.10 = 6k. You should write your function to be generalized and accept any kind of list of tuples and any inputted income (so it'll accept two arguments).\n",
    "\n",
    "Now modify your solution to Extra Credit 1 to accept a list of tuples that is not sorted by the income bound.\n",
    "\n",
    "Hint: Trying using the sorted function and working with the key argument (a lambda function will probably be helpful here).\n",
    "\n",
    "​"
   ]
  },
  {
   "cell_type": "code",
   "execution_count": 548,
   "metadata": {},
   "outputs": [],
   "source": [
    "def taxes(tuple_list,income):\n",
    "    # sort tuple along first index of the tuple\n",
    "    tuple_list.sort(key = lambda x: x[0])\n",
    "    # output\n",
    "    out = 0\n",
    "    # reverse list\n",
    "    tuple_list.reverse()\n",
    "    for idx,item in enumerate(tuple_list):\n",
    "        # find first value in list, that is higher\n",
    "        if income >= item[0]:\n",
    "            # residual income\n",
    "            income -= item[0]\n",
    "            # add to final output\n",
    "            out += item[0]*item[1]\n",
    "            break\n",
    "            \n",
    "    # calculate final output\n",
    "    \n",
    "    # no item >= income (for loop without result)\n",
    "    if out == 0: \n",
    "        out += income * tuple_list[idx][1]\n",
    "    # last index in for loop is first index of tuple_list \n",
    "    elif idx == 0:\n",
    "        out += income * tuple_list[idx][1]\n",
    "     #all the rest\n",
    "    else:\n",
    "        out += income * tuple_list[idx-1][1]\n",
    "    return out"
   ]
  },
  {
   "cell_type": "code",
   "execution_count": 550,
   "metadata": {},
   "outputs": [
    {
     "name": "stdout",
     "output_type": "stream",
     "text": [
      "test 1\n",
      "6000.0\n",
      "6000.0\n",
      "---\n",
      "test 2\n",
      "25500.0\n",
      "25500.0\n",
      "---\n",
      "test 3\n",
      "80.0\n",
      "80.0\n",
      "---\n",
      "test 4\n",
      "6000.0\n",
      "6000.0\n"
     ]
    }
   ],
   "source": [
    "## TEST\n",
    "# example test\n",
    "print(\"test 1\")\n",
    "tuple_list =  [(50000, 0.08), (100000, 0.10), (150000, 0.15)]\n",
    "income = 70000\n",
    "print(taxes(tuple_list,income))\n",
    "tax = 50000*0.08 + 20000*0.1\n",
    "print(tax)\n",
    "\n",
    "# income higher than largest bound in tuple_list\n",
    "print(\"---\")\n",
    "print(\"test 2\")\n",
    "tuple_list =  [(50000, 0.08), (100000, 0.10), (150000, 0.15)]\n",
    "income = 170000\n",
    "print(taxes(tuple_list,income))\n",
    "tax = 150000*0.15 + 20000*0.15\n",
    "print(tax)\n",
    "\n",
    "# income lower than lowest income in tuple_list\n",
    "print(\"---\")\n",
    "print(\"test 3\")\n",
    "tuple_list =  [(50000, 0.08), (100000, 0.10), (150000, 0.15)]\n",
    "income = 1000\n",
    "print(taxes(tuple_list,income))\n",
    "tax = 1000*0.08\n",
    "print(tax)\n",
    "\n",
    "# test example with different tuple_list\n",
    "print(\"---\")\n",
    "print(\"test 4\")\n",
    "tuple_list =  [(2000,0.06),(50000, 0.08), (100000, 0.10), (150000, 0.15)]\n",
    "income = 70000\n",
    "print(taxes(tuple_list,income))\n",
    "tax = 50000*0.08 + 20000*0.1\n",
    "print(tax)"
   ]
  },
  {
   "cell_type": "code",
   "execution_count": null,
   "metadata": {},
   "outputs": [],
   "source": []
  }
 ],
 "metadata": {
  "kernelspec": {
   "display_name": "Python 3",
   "language": "python",
   "name": "python3"
  },
  "language_info": {
   "codemirror_mode": {
    "name": "ipython",
    "version": 3
   },
   "file_extension": ".py",
   "mimetype": "text/x-python",
   "name": "python",
   "nbconvert_exporter": "python",
   "pygments_lexer": "ipython3",
   "version": "3.7.4"
  }
 },
 "nbformat": 4,
 "nbformat_minor": 2
}
